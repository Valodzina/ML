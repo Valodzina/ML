{
 "cells": [
  {
   "cell_type": "code",
   "execution_count": 1,
   "metadata": {},
   "outputs": [],
   "source": [
    "import shutil\n",
    "import os"
   ]
  },
  {
   "cell_type": "code",
   "execution_count": 2,
   "metadata": {},
   "outputs": [],
   "source": [
    "# Каталог с набором данных\n",
    "data_dir ='C:\\\\Users\\\\Professional\\\\Desktop\\\\Wardak\\\\Images'\n",
    "# Каталог с данными для обучения\n",
    "train_dir = 'train'\n",
    "# Каталог с данными для проверки\n",
    "val_dir = 'val'\n",
    "# Каталог с данными для тестирования\n",
    "test_dir = 'test'\n",
    "# Часть набора данных для тестирования\n",
    "test_data_portion = 0.15\n",
    "# Часть набора данных для проверки\n",
    "val_data_portion = 0.15\n",
    "# Количество элементов данных в одном классе\n",
    "nb_images = 2150"
   ]
  },
  {
   "cell_type": "code",
   "execution_count": 3,
   "metadata": {},
   "outputs": [],
   "source": [
    "def create_directory(dir_name):\n",
    "    if os.path.exists(dir_name):\n",
    "        shutil.rmtree(dir_name)\n",
    "    os.makedirs(dir_name)\n",
    "    os.makedirs(os.path.join(dir_name, \"glasses\"))\n",
    "    os.makedirs(os.path.join(dir_name, \"no_glasses\")) "
   ]
  },
  {
   "cell_type": "code",
   "execution_count": 4,
   "metadata": {},
   "outputs": [],
   "source": [
    "create_directory(train_dir)\n",
    "create_directory(val_dir)\n",
    "create_directory(test_dir)"
   ]
  },
  {
   "cell_type": "code",
   "execution_count": 5,
   "metadata": {},
   "outputs": [],
   "source": [
    "def copy_images(start_index, end_index, source_dir, dest_dir):\n",
    "    for i in range(start_index, end_index):\n",
    "        shutil.copy2(os.path.join(source_dir, \"glasses.\" + str(i) + \".jpg\"), \n",
    "                    os.path.join(dest_dir, \"glasses\"))\n",
    "        shutil.copy2(os.path.join(source_dir, \"no-glasses.\" + str(i) + \".jpg\"), \n",
    "                   os.path.join(dest_dir, \"no_glasses\"))"
   ]
  },
  {
   "cell_type": "code",
   "execution_count": 6,
   "metadata": {},
   "outputs": [
    {
     "name": "stdout",
     "output_type": "stream",
     "text": [
      "1505\n",
      "1827\n"
     ]
    }
   ],
   "source": [
    "start_val_data_idx = int(nb_images * (1 - val_data_portion - test_data_portion))\n",
    "start_test_data_idx = int(nb_images * (1 - test_data_portion))\n",
    "print(start_val_data_idx)\n",
    "print(start_test_data_idx)"
   ]
  },
  {
   "cell_type": "code",
   "execution_count": 7,
   "metadata": {},
   "outputs": [],
   "source": [
    "copy_images(0, start_val_data_idx, data_dir, train_dir)\n",
    "copy_images(start_val_data_idx, start_test_data_idx, data_dir, val_dir)\n",
    "copy_images(start_test_data_idx, nb_images, data_dir, test_dir)"
   ]
  }
 ],
 "metadata": {
  "kernelspec": {
   "display_name": "Python 3.9.13 ('tensorflow')",
   "language": "python",
   "name": "python3"
  },
  "language_info": {
   "codemirror_mode": {
    "name": "ipython",
    "version": 3
   },
   "file_extension": ".py",
   "mimetype": "text/x-python",
   "name": "python",
   "nbconvert_exporter": "python",
   "pygments_lexer": "ipython3",
   "version": "3.9.13"
  },
  "orig_nbformat": 4,
  "vscode": {
   "interpreter": {
    "hash": "ee6ef56facda7503055c4941e2c2083c4bcc9ecb08a66ac58f56d3b05ea5e5fc"
   }
  }
 },
 "nbformat": 4,
 "nbformat_minor": 2
}
