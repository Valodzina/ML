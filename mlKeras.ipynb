{
 "cells": [
  {
   "cell_type": "code",
   "execution_count": 1,
   "metadata": {},
   "outputs": [],
   "source": [
    "import onnxmltools\n",
    "from datetime import datetime\n",
    "from keras.preprocessing.image import ImageDataGenerator\n",
    "from keras.models import Sequential\n",
    "from keras.layers import Conv2D, MaxPooling2D\n",
    "from keras.layers import Activation, Dropout, Flatten, Dense\n",
    "from keras.models import load_model\n",
    "import onnx\n"
   ]
  },
  {
   "cell_type": "code",
   "execution_count": 2,
   "metadata": {},
   "outputs": [],
   "source": [
    "# Каталог с данными для обучения\n",
    "train_dir = 'train'\n",
    "# Каталог с данными для проверки\n",
    "val_dir = 'val'\n",
    "# Каталог с данными для тестирования\n",
    "test_dir = 'test'\n",
    "# Размеры изображения\n",
    "img_width, img_height = 128, 128\n",
    "# Размерность тензора на основе изображения для входных данных в нейронную сеть\n",
    "# backend Tensorflow, channels_last\n",
    "input_shape = (img_width, img_height, 3) \n",
    "# Количеств эпох\n",
    "epochs = 15\n",
    "# Размер мини-выборки\n",
    "batch_size = 16\n",
    "# Количество изображений для обучения\n",
    "nb_train_samples = 500\n",
    "# Количество изображений для проверки\n",
    "nb_validation_samples = 100\n",
    "# Количество изображенй для тестирования\n",
    "nb_test_samples = 100"
   ]
  },
  {
   "cell_type": "markdown",
   "metadata": {},
   "source": [
    "**Model Layers**"
   ]
  },
  {
   "cell_type": "code",
   "execution_count": 3,
   "metadata": {},
   "outputs": [],
   "source": [
    "model = Sequential()\n",
    "model.add(Conv2D(32, (3, 3), input_shape=input_shape))\n",
    "model.add(Activation('relu'))\n",
    "model.add(MaxPooling2D(pool_size=(2, 2)))\n",
    "\n",
    "model.add(Conv2D(32, (3, 3)))\n",
    "model.add(Activation('relu'))\n",
    "model.add(MaxPooling2D(pool_size=(2, 2)))\n",
    "\n",
    "model.add(Conv2D(64, (3, 3)))\n",
    "model.add(Activation('relu'))\n",
    "model.add(MaxPooling2D(pool_size=(2, 2)))\n",
    "\n",
    "model.add(Flatten())\n",
    "model.add(Dense(64))\n",
    "model.add(Activation('relu'))\n",
    "model.add(Dropout(0.5))\n",
    "model.add(Dense(1))\n",
    "model.add(Activation('sigmoid'))"
   ]
  },
  {
   "cell_type": "code",
   "execution_count": 4,
   "metadata": {},
   "outputs": [],
   "source": [
    "model.compile(loss='binary_crossentropy',\n",
    "              optimizer='adam',\n",
    "              metrics=['accuracy'])"
   ]
  },
  {
   "cell_type": "code",
   "execution_count": 5,
   "metadata": {},
   "outputs": [],
   "source": [
    "datagen = ImageDataGenerator(rescale=1. / 255)"
   ]
  },
  {
   "cell_type": "code",
   "execution_count": 6,
   "metadata": {},
   "outputs": [
    {
     "name": "stdout",
     "output_type": "stream",
     "text": [
      "Found 3010 images belonging to 2 classes.\n"
     ]
    }
   ],
   "source": [
    "train_generator = datagen.flow_from_directory(\n",
    "    train_dir,\n",
    "    target_size=(img_width, img_height),\n",
    "    batch_size=batch_size,\n",
    "    class_mode='binary')"
   ]
  },
  {
   "cell_type": "code",
   "execution_count": 7,
   "metadata": {},
   "outputs": [
    {
     "name": "stdout",
     "output_type": "stream",
     "text": [
      "Found 644 images belonging to 2 classes.\n"
     ]
    }
   ],
   "source": [
    "val_generator = datagen.flow_from_directory(\n",
    "    val_dir,\n",
    "    target_size=(img_width, img_height),\n",
    "    batch_size=batch_size,\n",
    "    class_mode='binary')"
   ]
  },
  {
   "cell_type": "code",
   "execution_count": 8,
   "metadata": {},
   "outputs": [
    {
     "name": "stdout",
     "output_type": "stream",
     "text": [
      "Found 646 images belonging to 2 classes.\n"
     ]
    }
   ],
   "source": [
    "test_generator = datagen.flow_from_directory(\n",
    "    test_dir,\n",
    "    target_size=(img_width, img_height),\n",
    "    batch_size=batch_size,\n",
    "    class_mode='binary')\n"
   ]
  },
  {
   "cell_type": "code",
   "execution_count": 9,
   "metadata": {},
   "outputs": [
    {
     "name": "stdout",
     "output_type": "stream",
     "text": [
      "Epoch 1/15\n",
      "31/31 [==============================] - 9s 244ms/step - loss: 0.5808 - accuracy: 0.6855 - val_loss: 0.1949 - val_accuracy: 0.9896\n",
      "Epoch 2/15\n",
      "31/31 [==============================] - 7s 236ms/step - loss: 0.2285 - accuracy: 0.9066 - val_loss: 0.1104 - val_accuracy: 1.0000\n",
      "Epoch 3/15\n",
      "31/31 [==============================] - 8s 239ms/step - loss: 0.0937 - accuracy: 0.9637 - val_loss: 0.0244 - val_accuracy: 1.0000\n",
      "Epoch 4/15\n",
      "31/31 [==============================] - 8s 243ms/step - loss: 0.0529 - accuracy: 0.9839 - val_loss: 0.0394 - val_accuracy: 0.9896\n",
      "Epoch 5/15\n",
      "31/31 [==============================] - 8s 242ms/step - loss: 0.0453 - accuracy: 0.9819 - val_loss: 0.0048 - val_accuracy: 1.0000\n",
      "Epoch 6/15\n",
      "31/31 [==============================] - 7s 240ms/step - loss: 0.0328 - accuracy: 0.9896 - val_loss: 0.0026 - val_accuracy: 1.0000\n",
      "Epoch 7/15\n",
      "31/31 [==============================] - 8s 245ms/step - loss: 0.0198 - accuracy: 0.9940 - val_loss: 0.0084 - val_accuracy: 1.0000\n",
      "Epoch 8/15\n",
      "31/31 [==============================] - 7s 232ms/step - loss: 0.0056 - accuracy: 1.0000 - val_loss: 2.6045e-04 - val_accuracy: 1.0000\n",
      "Epoch 9/15\n",
      "31/31 [==============================] - 7s 218ms/step - loss: 0.0135 - accuracy: 0.9960 - val_loss: 0.0634 - val_accuracy: 0.9896\n",
      "Epoch 10/15\n",
      "31/31 [==============================] - 7s 240ms/step - loss: 0.0264 - accuracy: 0.9919 - val_loss: 0.0021 - val_accuracy: 1.0000\n",
      "Epoch 11/15\n",
      "31/31 [==============================] - 7s 229ms/step - loss: 0.0280 - accuracy: 0.9938 - val_loss: 0.0155 - val_accuracy: 1.0000\n",
      "Epoch 12/15\n",
      "31/31 [==============================] - 7s 235ms/step - loss: 0.0208 - accuracy: 0.9899 - val_loss: 0.0016 - val_accuracy: 1.0000\n",
      "Epoch 13/15\n",
      "31/31 [==============================] - 8s 246ms/step - loss: 0.0076 - accuracy: 0.9980 - val_loss: 0.0012 - val_accuracy: 1.0000\n",
      "Epoch 14/15\n",
      "31/31 [==============================] - 7s 220ms/step - loss: 0.0040 - accuracy: 0.9980 - val_loss: 8.2012e-04 - val_accuracy: 1.0000\n",
      "Epoch 15/15\n",
      "31/31 [==============================] - 7s 216ms/step - loss: 0.0090 - accuracy: 0.9980 - val_loss: 0.0038 - val_accuracy: 1.0000\n"
     ]
    }
   ],
   "source": [
    "hist=model.fit(\n",
    "    train_generator,\n",
    "    steps_per_epoch=nb_train_samples // batch_size,\n",
    "    epochs=epochs,\n",
    "    validation_data=val_generator,\n",
    "    validation_steps=nb_validation_samples // batch_size)"
   ]
  },
  {
   "cell_type": "code",
   "execution_count": 10,
   "metadata": {},
   "outputs": [
    {
     "name": "stderr",
     "output_type": "stream",
     "text": [
      "C:\\Users\\PROFES~1\\AppData\\Local\\Temp/ipykernel_6120/980662612.py:1: UserWarning: `Model.evaluate_generator` is deprecated and will be removed in a future version. Please use `Model.evaluate`, which supports generators.\n",
      "  scores = model.evaluate_generator(test_generator, nb_test_samples // batch_size)\n"
     ]
    },
    {
     "name": "stdout",
     "output_type": "stream",
     "text": [
      "Точность на тестовых данных: 98.96%\n"
     ]
    }
   ],
   "source": [
    "scores = model.evaluate_generator(test_generator, nb_test_samples // batch_size)\n",
    "\n",
    "print(\"Точность на тестовых данных: %.2f%%\" % (scores[1]*100))\n"
   ]
  },
  {
   "cell_type": "markdown",
   "metadata": {},
   "source": [
    "**To ONNX and From ONNX**"
   ]
  },
  {
   "cell_type": "code",
   "execution_count": 11,
   "metadata": {},
   "outputs": [],
   "source": [
    "from keras.models import Model, model_from_json\n",
    "\n",
    "model_json = model.to_json()\n",
    "json_file = open('model.json', 'w')\n",
    "json_file.write(model_json)\n",
    "json_file.close()\n",
    "\n",
    "onnx_model = onnxmltools.convert_keras(model)\n",
    "onnxmltools.utils.save_model(onnx_model, 'model.onnx')\n",
    "\n",
    "model.save_weights('model_cnn.h5')\n",
    "\n",
    "\n",
    "\n",
    "\n",
    "\n",
    "\n",
    "json_file = open(\"model.json\", \"r\")\n",
    "loaded_model_json = json_file.read()\n",
    "json_file.close()\n",
    "\n",
    "loaded_model = model_from_json(loaded_model_json)\n",
    "\n",
    "loaded_model.load_weights(\"model_cnn.h5\")\n",
    "\n",
    "\n",
    "loaded_model.compile(loss='binary_crossentropy',\n",
    "              optimizer='adam',\n",
    "              metrics=['accuracy'])\n"
   ]
  },
  {
   "cell_type": "markdown",
   "metadata": {},
   "source": [
    "**Test on 3 new IMAGES**"
   ]
  },
  {
   "cell_type": "code",
   "execution_count": 12,
   "metadata": {},
   "outputs": [
    {
     "name": "stdout",
     "output_type": "stream",
     "text": [
      "Found 3 images belonging to 1 classes.\n"
     ]
    },
    {
     "name": "stderr",
     "output_type": "stream",
     "text": [
      "C:\\Users\\PROFES~1\\AppData\\Local\\Temp/ipykernel_6120/1102719947.py:7: UserWarning: `Model.evaluate_generator` is deprecated and will be removed in a future version. Please use `Model.evaluate`, which supports generators.\n",
      "  scores2 = loaded_model.evaluate_generator(test_generator2, 3 // 3)\n"
     ]
    },
    {
     "name": "stdout",
     "output_type": "stream",
     "text": [
      "Точность на тестовых данных: 100.00%\n"
     ]
    }
   ],
   "source": [
    "test_generator2 = datagen.flow_from_directory(\n",
    "    'test-2',\n",
    "    target_size=(img_width, img_height),\n",
    "    batch_size=3,\n",
    "    class_mode='binary')\n",
    "\n",
    "scores2 = loaded_model.evaluate_generator(test_generator2, 3 // 3)\n",
    "\n",
    "print(\"Точность на тестовых данных: %.2f%%\" % (scores2[1]*100))\n"
   ]
  },
  {
   "cell_type": "markdown",
   "metadata": {},
   "source": [
    "**PLOT**"
   ]
  },
  {
   "cell_type": "code",
   "execution_count": 13,
   "metadata": {},
   "outputs": [
    {
     "data": {
      "image/png": "[encoded data removed]",
      "text/plain": [
       "<Figure size 432x288 with 1 Axes>"
      ]
     },
     "metadata": {
      "needs_background": "light"
     },
     "output_type": "display_data"
    }
   ],
   "source": [
    "from matplotlib import pyplot as plt\n",
    "\n",
    "fig = plt.figure()\n",
    "plt.plot(hist.history['loss'], color='red', label='loss')\n",
    "plt.plot(hist.history['val_loss'], color='black', label='val_loss')\n",
    "fig.suptitle('LOSS', fontsize=25)\n",
    "plt.legend(loc=\"upper right\")\n",
    "plt.show()"
   ]
  }
 ],
 "metadata": {
  "kernelspec": {
   "display_name": "Python 3.9.7 ('base')",
   "language": "python",
   "name": "python3"
  },
  "language_info": {
   "codemirror_mode": {
    "name": "ipython",
    "version": 3
   },
   "file_extension": ".py",
   "mimetype": "text/x-python",
   "name": "python",
   "nbconvert_exporter": "python",
   "pygments_lexer": "ipython3",
   "version": "3.9.7"
  },
  "orig_nbformat": 4,
  "vscode": {
   "interpreter": {
    "hash": "ad2bdc8ecc057115af97d19610ffacc2b4e99fae6737bb82f5d7fb13d2f2c186"
   }
  }
 },
 "nbformat": 4,
 "nbformat_minor": 2
}
